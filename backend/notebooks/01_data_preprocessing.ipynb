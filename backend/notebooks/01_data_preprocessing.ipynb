{
 "cells": [
  {
   "cell_type": "code",
   "execution_count": 16,
   "id": "17a6fe93",
   "metadata": {},
   "outputs": [
    {
     "name": "stdout",
     "output_type": "stream",
     "text": [
      "Preprocessed files saved to ../data/processed\n"
     ]
    }
   ],
   "source": [
    "import os\n",
    "\n",
    "RAW_DIR = \"../data/raw\"\n",
    "PROCESSED_DIR = \"../data/processed\"\n",
    "os.makedirs(PROCESSED_DIR, exist_ok=True)\n",
    "\n",
    "for filename in os.listdir(RAW_DIR):\n",
    "    if filename.endswith(\".txt\") or filename.endswith(\".csv\"):\n",
    "        with open(os.path.join(RAW_DIR, filename), \"r\", encoding=\"utf-8\") as f:\n",
    "            text = f.read()\n",
    "        text = \" \".join(text.split())  # Remove extra spaces\n",
    "        with open(os.path.join(PROCESSED_DIR, filename), \"w\", encoding=\"utf-8\") as f:\n",
    "            f.write(text)\n",
    "\n",
    "print(f\"Preprocessed files saved to {PROCESSED_DIR}\")\n"
   ]
  }
 ],
 "metadata": {
  "kernelspec": {
   "display_name": "base",
   "language": "python",
   "name": "python3"
  },
  "language_info": {
   "codemirror_mode": {
    "name": "ipython",
    "version": 3
   },
   "file_extension": ".py",
   "mimetype": "text/x-python",
   "name": "python",
   "nbconvert_exporter": "python",
   "pygments_lexer": "ipython3",
   "version": "3.11.7"
  }
 },
 "nbformat": 4,
 "nbformat_minor": 5
}

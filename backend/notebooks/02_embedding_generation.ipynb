{
 "cells": [
  {
   "cell_type": "code",
   "execution_count": null,
   "id": "669da38d",
   "metadata": {},
   "outputs": [
    {
     "ename": "NameError",
     "evalue": "name 'SentenceTransformer' is not defined",
     "output_type": "error",
     "traceback": [
      "\u001b[1;31m---------------------------------------------------------------------------\u001b[0m",
      "\u001b[1;31mNameError\u001b[0m                                 Traceback (most recent call last)",
      "Cell \u001b[1;32mIn[3], line 11\u001b[0m\n\u001b[0;32m      8\u001b[0m documents \u001b[38;5;241m=\u001b[39m []\n\u001b[0;32m      9\u001b[0m filenames \u001b[38;5;241m=\u001b[39m []\n\u001b[1;32m---> 11\u001b[0m model \u001b[38;5;241m=\u001b[39m SentenceTransformer(\u001b[38;5;124m'\u001b[39m\u001b[38;5;124mall-MiniLM-L6-v2\u001b[39m\u001b[38;5;124m'\u001b[39m)\n\u001b[0;32m     13\u001b[0m \u001b[38;5;28;01mfor\u001b[39;00m filename \u001b[38;5;129;01min\u001b[39;00m os\u001b[38;5;241m.\u001b[39mlistdir(PROCESSED_DIR):\n\u001b[0;32m     14\u001b[0m     \u001b[38;5;28;01mif\u001b[39;00m filename\u001b[38;5;241m.\u001b[39mendswith(\u001b[38;5;124m\"\u001b[39m\u001b[38;5;124m.txt\u001b[39m\u001b[38;5;124m\"\u001b[39m) \u001b[38;5;129;01mor\u001b[39;00m filename\u001b[38;5;241m.\u001b[39mendswith(\u001b[38;5;124m\"\u001b[39m\u001b[38;5;124m.csv\u001b[39m\u001b[38;5;124m\"\u001b[39m):\n",
      "\u001b[1;31mNameError\u001b[0m: name 'SentenceTransformer' is not defined"
     ]
    }
   ],
   "source": [
    "import os\n",
    "import pickle\n",
    "import SentenceTransformer\n",
    "\n",
    "PROCESSED_DIR = \"../data/processed\"\n",
    "EMBEDDINGS_DIR = \"../data/embeddings\"\n",
    "os.makedirs(EMBEDDINGS_DIR, exist_ok=True)\n",
    "\n",
    "documents = []\n",
    "filenames = []\n",
    "\n",
    "model = SentenceTransformer('all-MiniLM-L6-v2')\n",
    "\n",
    "for filename in os.listdir(PROCESSED_DIR):\n",
    "    if filename.endswith(\".txt\") or filename.endswith(\".csv\"):\n",
    "        with open(os.path.join(PROCESSED_DIR, filename), \"r\", encoding=\"utf-8\") as f:\n",
    "            text = f.read()\n",
    "        documents.append(text)\n",
    "        filenames.append(filename)\n",
    "\n",
    "embeddings = model.encode(documents, convert_to_numpy=True)\n",
    "\n",
    "# Save embeddings\n",
    "with open(os.path.join(EMBEDDINGS_DIR, \"docs.pkl\"), \"wb\") as f:\n",
    "    pickle.dump({\"documents\": documents, \"filenames\": filenames}, f)\n",
    "\n",
    "with open(os.path.join(EMBEDDINGS_DIR, \"embeddings.pkl\"), \"wb\") as f:\n",
    "    pickle.dump(embeddings, f)\n",
    "\n",
    "print(\"Embeddings generated successfully!\")\n"
   ]
  }
 ],
 "metadata": {
  "kernelspec": {
   "display_name": "base",
   "language": "python",
   "name": "python3"
  },
  "language_info": {
   "codemirror_mode": {
    "name": "ipython",
    "version": 3
   },
   "file_extension": ".py",
   "mimetype": "text/x-python",
   "name": "python",
   "nbconvert_exporter": "python",
   "pygments_lexer": "ipython3",
   "version": "3.11.7"
  }
 },
 "nbformat": 4,
 "nbformat_minor": 5
}
